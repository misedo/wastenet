{
 "cells": [
  {
   "cell_type": "markdown",
   "metadata": {},
   "source": [
    "# PyTorch & Hugging Face Setup for NVIDIA RTX 50 Series GPUs\n",
    "\n",
    "\n",
    "This notebook demonstrates how to set up and use PyTorch with NVIDIA RTX 5090 GPU,\n",
    "including basic tensor operations and Hugging Face model inference.\n",
    "\n",
    "Requirements:\n",
    "- NVIDIA RTX 50 series GPU\n",
    "- Ubuntu 24.04 LTS\n",
    "- NVIDIA Driver 570.86.16 or later\n",
    "\n",
    "\n",
    "Downloads NVIDIA drivers by going here [https://www.nvidia.com/en-us/drivers/](https://www.nvidia.com/en-us/drivers/) and download .run file\n",
    "\n",
    "\n",
    "### Installing PyTorch, Torchvision, and Torchaudio"
   ]
  },
  {
   "cell_type": "code",
   "execution_count": 2,
   "metadata": {
    "scrolled": true
   },
   "outputs": [
    {
     "name": "stdout",
     "output_type": "stream",
     "text": [
      "Looking in indexes: https://download.pytorch.org/whl/nightly/cu128\n",
      "Collecting torch\n",
      "  Using cached https://download.pytorch.org/whl/nightly/cu128/torch-2.7.0.dev20250205%2Bcu128-cp310-cp310-manylinux_2_28_x86_64.whl.metadata (28 kB)\n",
      "Collecting torchvision\n",
      "  Using cached https://download.pytorch.org/whl/nightly/cu128/torchvision-0.22.0.dev20250205%2Bcu128-cp310-cp310-linux_x86_64.whl.metadata (6.2 kB)\n",
      "Collecting torchaudio\n",
      "  Using cached https://download.pytorch.org/whl/nightly/cu128/torchaudio-2.6.0.dev20250205%2Bcu128-cp310-cp310-linux_x86_64.whl.metadata (6.6 kB)\n",
      "Requirement already satisfied: filelock in /home/jayrodge/miniconda3/envs/pytorch/lib/python3.10/site-packages (from torch) (3.16.1)\n",
      "Requirement already satisfied: typing-extensions>=4.10.0 in /home/jayrodge/miniconda3/envs/pytorch/lib/python3.10/site-packages (from torch) (4.12.2)\n",
      "Requirement already satisfied: sympy==1.13.1 in /home/jayrodge/miniconda3/envs/pytorch/lib/python3.10/site-packages (from torch) (1.13.1)\n",
      "Requirement already satisfied: networkx in /home/jayrodge/miniconda3/envs/pytorch/lib/python3.10/site-packages (from torch) (3.4.2)\n",
      "Requirement already satisfied: jinja2 in /home/jayrodge/miniconda3/envs/pytorch/lib/python3.10/site-packages (from torch) (3.1.5)\n",
      "Requirement already satisfied: fsspec in /home/jayrodge/miniconda3/envs/pytorch/lib/python3.10/site-packages (from torch) (2024.10.0)\n",
      "Requirement already satisfied: nvidia-cuda-nvrtc-cu12==12.8.61 in /home/jayrodge/miniconda3/envs/pytorch/lib/python3.10/site-packages (from torch) (12.8.61)\n",
      "Requirement already satisfied: nvidia-cuda-runtime-cu12==12.8.57 in /home/jayrodge/miniconda3/envs/pytorch/lib/python3.10/site-packages (from torch) (12.8.57)\n",
      "Requirement already satisfied: nvidia-cuda-cupti-cu12==12.8.57 in /home/jayrodge/miniconda3/envs/pytorch/lib/python3.10/site-packages (from torch) (12.8.57)\n",
      "Requirement already satisfied: nvidia-cudnn-cu12==9.7.0.66 in /home/jayrodge/miniconda3/envs/pytorch/lib/python3.10/site-packages (from torch) (9.7.0.66)\n",
      "Requirement already satisfied: nvidia-cublas-cu12==12.8.3.14 in /home/jayrodge/miniconda3/envs/pytorch/lib/python3.10/site-packages (from torch) (12.8.3.14)\n",
      "Requirement already satisfied: nvidia-cufft-cu12==11.3.3.41 in /home/jayrodge/miniconda3/envs/pytorch/lib/python3.10/site-packages (from torch) (11.3.3.41)\n",
      "Requirement already satisfied: nvidia-curand-cu12==10.3.9.55 in /home/jayrodge/miniconda3/envs/pytorch/lib/python3.10/site-packages (from torch) (10.3.9.55)\n",
      "Requirement already satisfied: nvidia-cusolver-cu12==11.7.2.55 in /home/jayrodge/miniconda3/envs/pytorch/lib/python3.10/site-packages (from torch) (11.7.2.55)\n",
      "Requirement already satisfied: nvidia-cusparse-cu12==12.5.7.53 in /home/jayrodge/miniconda3/envs/pytorch/lib/python3.10/site-packages (from torch) (12.5.7.53)\n",
      "Requirement already satisfied: nvidia-cusparselt-cu12==0.6.3 in /home/jayrodge/miniconda3/envs/pytorch/lib/python3.10/site-packages (from torch) (0.6.3)\n",
      "Requirement already satisfied: nvidia-nccl-cu12==2.21.5 in /home/jayrodge/miniconda3/envs/pytorch/lib/python3.10/site-packages (from torch) (2.21.5)\n",
      "Requirement already satisfied: nvidia-nvtx-cu12==12.8.55 in /home/jayrodge/miniconda3/envs/pytorch/lib/python3.10/site-packages (from torch) (12.8.55)\n",
      "Requirement already satisfied: nvidia-nvjitlink-cu12==12.8.61 in /home/jayrodge/miniconda3/envs/pytorch/lib/python3.10/site-packages (from torch) (12.8.61)\n",
      "Requirement already satisfied: pytorch-triton==3.2.0+git4b3bb1f8 in /home/jayrodge/miniconda3/envs/pytorch/lib/python3.10/site-packages (from torch) (3.2.0+git4b3bb1f8)\n",
      "Requirement already satisfied: mpmath<1.4,>=1.1.0 in /home/jayrodge/miniconda3/envs/pytorch/lib/python3.10/site-packages (from sympy==1.13.1->torch) (1.3.0)\n",
      "Requirement already satisfied: numpy in /home/jayrodge/miniconda3/envs/pytorch/lib/python3.10/site-packages (from torchvision) (2.1.2)\n",
      "Requirement already satisfied: pillow!=8.3.*,>=5.3.0 in /home/jayrodge/miniconda3/envs/pytorch/lib/python3.10/site-packages (from torchvision) (11.0.0)\n",
      "Requirement already satisfied: MarkupSafe>=2.0 in /home/jayrodge/miniconda3/envs/pytorch/lib/python3.10/site-packages (from jinja2->torch) (3.0.2)\n",
      "Using cached https://download.pytorch.org/whl/nightly/cu128/torch-2.7.0.dev20250205%2Bcu128-cp310-cp310-manylinux_2_28_x86_64.whl (1363.8 MB)\n",
      "Using cached https://download.pytorch.org/whl/nightly/cu128/torchvision-0.22.0.dev20250205%2Bcu128-cp310-cp310-linux_x86_64.whl (8.2 MB)\n",
      "Using cached https://download.pytorch.org/whl/nightly/cu128/torchaudio-2.6.0.dev20250205%2Bcu128-cp310-cp310-linux_x86_64.whl (3.5 MB)\n",
      "Installing collected packages: torch, torchvision, torchaudio\n",
      "Successfully installed torch-2.7.0.dev20250205+cu128 torchaudio-2.6.0.dev20250205+cu128 torchvision-0.22.0.dev20250205+cu128\n",
      "Requirement already satisfied: soundfile in /home/jayrodge/miniconda3/envs/pytorch/lib/python3.10/site-packages (0.13.1)\n",
      "Requirement already satisfied: cffi>=1.0 in /home/jayrodge/miniconda3/envs/pytorch/lib/python3.10/site-packages (from soundfile) (1.17.1)\n",
      "Requirement already satisfied: numpy in /home/jayrodge/miniconda3/envs/pytorch/lib/python3.10/site-packages (from soundfile) (2.1.2)\n",
      "Requirement already satisfied: pycparser in /home/jayrodge/miniconda3/envs/pytorch/lib/python3.10/site-packages (from cffi>=1.0->soundfile) (2.22)\n"
     ]
    }
   ],
   "source": [
    "!pip install --pre torch torchvision torchaudio --index-url https://download.pytorch.org/whl/nightly/cu128\n",
    "!pip install soundfile"
   ]
  },
  {
   "cell_type": "code",
   "execution_count": 3,
   "metadata": {},
   "outputs": [
    {
     "name": "stdout",
     "output_type": "stream",
     "text": [
      "PyTorch version: 2.7.0.dev20250205+cu128\n"
     ]
    }
   ],
   "source": [
    "import torch\n",
    "\n",
    "# Test PyTorch installation\n",
    "print(\"PyTorch version:\", torch.__version__)"
   ]
  },
  {
   "cell_type": "code",
   "execution_count": 4,
   "metadata": {},
   "outputs": [
    {
     "name": "stdout",
     "output_type": "stream",
     "text": [
      "CUDA is available! Using GPU.\n",
      "Tensor x:\n",
      " tensor([[1., 2.],\n",
      "        [3., 4.]])\n",
      "Tensor y (x + 2):\n",
      " tensor([[3., 4.],\n",
      "        [5., 6.]])\n",
      "Matrix multiplication (x @ y):\n",
      " tensor([[13., 16.],\n",
      "        [29., 36.]])\n"
     ]
    }
   ],
   "source": [
    "# Check if CUDA (GPU) is available\n",
    "if torch.cuda.is_available():\n",
    "    device = torch.device(\"cuda\")  # Use GPU\n",
    "    print(\"CUDA is available! Using GPU.\")\n",
    "else:\n",
    "    device = torch.device(\"cpu\")  # Use CPU\n",
    "    print(\"CUDA is not available. Using CPU.\")\n",
    "\n",
    "# Create a tensor\n",
    "x = torch.tensor([[1.0, 2.0], [3.0, 4.0]])\n",
    "print(\"Tensor x:\\n\", x)\n",
    "\n",
    "# Perform basic operations\n",
    "y = x + 2\n",
    "print(\"Tensor y (x + 2):\\n\", y)\n",
    "\n",
    "z = torch.matmul(x, y)\n",
    "print(\"Matrix multiplication (x @ y):\\n\", z)"
   ]
  },
  {
   "cell_type": "code",
   "execution_count": 1,
   "metadata": {},
   "outputs": [
    {
     "name": "stdout",
     "output_type": "stream",
     "text": [
      "Torchaudio version: 2.6.0.dev20250205+cu128\n",
      "Torchvision version: 0.22.0.dev20250205+cu128\n"
     ]
    }
   ],
   "source": [
    "import torchaudio\n",
    "import torchvision\n",
    "\n",
    "# Print versions to verify installation\n",
    "print(f\"Torchaudio version: {torchaudio.__version__}\")\n",
    "print(f\"Torchvision version: {torchvision.__version__}\")"
   ]
  },
  {
   "cell_type": "code",
   "execution_count": 2,
   "metadata": {},
   "outputs": [
    {
     "name": "stdout",
     "output_type": "stream",
     "text": [
      "\n",
      "Audio shape: torch.Size([1, 40000])\n",
      "Sample rate: 8000\n"
     ]
    },
    {
     "name": "stderr",
     "output_type": "stream",
     "text": [
      "100.0%\n",
      "100.0%\n",
      "100.0%\n",
      "100.0%"
     ]
    },
    {
     "name": "stdout",
     "output_type": "stream",
     "text": [
      "\n",
      "MNIST Dataset size: 60000\n"
     ]
    },
    {
     "name": "stderr",
     "output_type": "stream",
     "text": [
      "\n"
     ]
    }
   ],
   "source": [
    "# Basic audio loading test\n",
    "file = torchaudio.utils.download_asset(\"tutorial-assets/Lab41-SRI-VOiCES-rm1-babb-mc01-stu-clo-8000hz.wav\")\n",
    "waveform, sample_rate = torchaudio.load(file) \n",
    "print(f\"\\nAudio shape: {waveform.shape}\")\n",
    "print(f\"Sample rate: {sample_rate}\")\n",
    "\n",
    "# Basic image loading test\n",
    "from torchvision import datasets\n",
    "train_data = datasets.MNIST(\n",
    "    root = 'data',\n",
    "    train = True,\n",
    "    download = True\n",
    ")\n",
    "print(f\"\\nMNIST Dataset size: {len(train_data)}\")\n"
   ]
  },
  {
   "cell_type": "markdown",
   "metadata": {},
   "source": [
    "### Installing Hugging Face"
   ]
  },
  {
   "cell_type": "code",
   "execution_count": 3,
   "metadata": {},
   "outputs": [
    {
     "name": "stdout",
     "output_type": "stream",
     "text": [
      "Collecting transformers\n",
      "  Using cached transformers-4.48.2-py3-none-any.whl.metadata (44 kB)\n",
      "Collecting accelerate\n",
      "  Using cached accelerate-1.3.0-py3-none-any.whl.metadata (19 kB)\n",
      "Collecting huggingface_hub[cli]\n",
      "  Using cached huggingface_hub-0.28.1-py3-none-any.whl.metadata (13 kB)\n",
      "Requirement already satisfied: filelock in /home/jayrodge/miniconda3/envs/pytorch/lib/python3.10/site-packages (from transformers) (3.16.1)\n",
      "Requirement already satisfied: numpy>=1.17 in /home/jayrodge/miniconda3/envs/pytorch/lib/python3.10/site-packages (from transformers) (2.1.2)\n",
      "Requirement already satisfied: packaging>=20.0 in /home/jayrodge/miniconda3/envs/pytorch/lib/python3.10/site-packages (from transformers) (24.2)\n",
      "Requirement already satisfied: pyyaml>=5.1 in /home/jayrodge/miniconda3/envs/pytorch/lib/python3.10/site-packages (from transformers) (6.0.2)\n",
      "Collecting regex!=2019.12.17 (from transformers)\n",
      "  Using cached regex-2024.11.6-cp310-cp310-manylinux_2_17_x86_64.manylinux2014_x86_64.whl.metadata (40 kB)\n",
      "Requirement already satisfied: requests in /home/jayrodge/miniconda3/envs/pytorch/lib/python3.10/site-packages (from transformers) (2.32.3)\n",
      "Collecting tokenizers<0.22,>=0.21 (from transformers)\n",
      "  Using cached tokenizers-0.21.0-cp39-abi3-manylinux_2_17_x86_64.manylinux2014_x86_64.whl.metadata (6.7 kB)\n",
      "Collecting safetensors>=0.4.1 (from transformers)\n",
      "  Using cached safetensors-0.5.2-cp38-abi3-manylinux_2_17_x86_64.manylinux2014_x86_64.whl.metadata (3.8 kB)\n",
      "Collecting tqdm>=4.27 (from transformers)\n",
      "  Using cached tqdm-4.67.1-py3-none-any.whl.metadata (57 kB)\n",
      "Requirement already satisfied: psutil in /home/jayrodge/miniconda3/envs/pytorch/lib/python3.10/site-packages (from accelerate) (6.1.1)\n",
      "Requirement already satisfied: torch>=2.0.0 in /home/jayrodge/miniconda3/envs/pytorch/lib/python3.10/site-packages (from accelerate) (2.7.0.dev20250205+cu128)\n",
      "Requirement already satisfied: fsspec>=2023.5.0 in /home/jayrodge/miniconda3/envs/pytorch/lib/python3.10/site-packages (from huggingface_hub[cli]) (2024.10.0)\n",
      "Requirement already satisfied: typing-extensions>=3.7.4.3 in /home/jayrodge/miniconda3/envs/pytorch/lib/python3.10/site-packages (from huggingface_hub[cli]) (4.12.2)\n",
      "Collecting InquirerPy==0.3.4 (from huggingface_hub[cli])\n",
      "  Using cached InquirerPy-0.3.4-py3-none-any.whl.metadata (8.1 kB)\n",
      "Collecting pfzy<0.4.0,>=0.3.1 (from InquirerPy==0.3.4->huggingface_hub[cli])\n",
      "  Using cached pfzy-0.3.4-py3-none-any.whl.metadata (4.9 kB)\n",
      "Requirement already satisfied: prompt-toolkit<4.0.0,>=3.0.1 in /home/jayrodge/miniconda3/envs/pytorch/lib/python3.10/site-packages (from InquirerPy==0.3.4->huggingface_hub[cli]) (3.0.50)\n",
      "Requirement already satisfied: sympy==1.13.1 in /home/jayrodge/miniconda3/envs/pytorch/lib/python3.10/site-packages (from torch>=2.0.0->accelerate) (1.13.1)\n",
      "Requirement already satisfied: networkx in /home/jayrodge/miniconda3/envs/pytorch/lib/python3.10/site-packages (from torch>=2.0.0->accelerate) (3.4.2)\n",
      "Requirement already satisfied: jinja2 in /home/jayrodge/miniconda3/envs/pytorch/lib/python3.10/site-packages (from torch>=2.0.0->accelerate) (3.1.5)\n",
      "Requirement already satisfied: nvidia-cuda-nvrtc-cu12==12.8.61 in /home/jayrodge/miniconda3/envs/pytorch/lib/python3.10/site-packages (from torch>=2.0.0->accelerate) (12.8.61)\n",
      "Requirement already satisfied: nvidia-cuda-runtime-cu12==12.8.57 in /home/jayrodge/miniconda3/envs/pytorch/lib/python3.10/site-packages (from torch>=2.0.0->accelerate) (12.8.57)\n",
      "Requirement already satisfied: nvidia-cuda-cupti-cu12==12.8.57 in /home/jayrodge/miniconda3/envs/pytorch/lib/python3.10/site-packages (from torch>=2.0.0->accelerate) (12.8.57)\n",
      "Requirement already satisfied: nvidia-cudnn-cu12==9.7.0.66 in /home/jayrodge/miniconda3/envs/pytorch/lib/python3.10/site-packages (from torch>=2.0.0->accelerate) (9.7.0.66)\n",
      "Requirement already satisfied: nvidia-cublas-cu12==12.8.3.14 in /home/jayrodge/miniconda3/envs/pytorch/lib/python3.10/site-packages (from torch>=2.0.0->accelerate) (12.8.3.14)\n",
      "Requirement already satisfied: nvidia-cufft-cu12==11.3.3.41 in /home/jayrodge/miniconda3/envs/pytorch/lib/python3.10/site-packages (from torch>=2.0.0->accelerate) (11.3.3.41)\n",
      "Requirement already satisfied: nvidia-curand-cu12==10.3.9.55 in /home/jayrodge/miniconda3/envs/pytorch/lib/python3.10/site-packages (from torch>=2.0.0->accelerate) (10.3.9.55)\n",
      "Requirement already satisfied: nvidia-cusolver-cu12==11.7.2.55 in /home/jayrodge/miniconda3/envs/pytorch/lib/python3.10/site-packages (from torch>=2.0.0->accelerate) (11.7.2.55)\n",
      "Requirement already satisfied: nvidia-cusparse-cu12==12.5.7.53 in /home/jayrodge/miniconda3/envs/pytorch/lib/python3.10/site-packages (from torch>=2.0.0->accelerate) (12.5.7.53)\n",
      "Requirement already satisfied: nvidia-cusparselt-cu12==0.6.3 in /home/jayrodge/miniconda3/envs/pytorch/lib/python3.10/site-packages (from torch>=2.0.0->accelerate) (0.6.3)\n",
      "Requirement already satisfied: nvidia-nccl-cu12==2.21.5 in /home/jayrodge/miniconda3/envs/pytorch/lib/python3.10/site-packages (from torch>=2.0.0->accelerate) (2.21.5)\n",
      "Requirement already satisfied: nvidia-nvtx-cu12==12.8.55 in /home/jayrodge/miniconda3/envs/pytorch/lib/python3.10/site-packages (from torch>=2.0.0->accelerate) (12.8.55)\n",
      "Requirement already satisfied: nvidia-nvjitlink-cu12==12.8.61 in /home/jayrodge/miniconda3/envs/pytorch/lib/python3.10/site-packages (from torch>=2.0.0->accelerate) (12.8.61)\n",
      "Requirement already satisfied: pytorch-triton==3.2.0+git4b3bb1f8 in /home/jayrodge/miniconda3/envs/pytorch/lib/python3.10/site-packages (from torch>=2.0.0->accelerate) (3.2.0+git4b3bb1f8)\n",
      "Requirement already satisfied: mpmath<1.4,>=1.1.0 in /home/jayrodge/miniconda3/envs/pytorch/lib/python3.10/site-packages (from sympy==1.13.1->torch>=2.0.0->accelerate) (1.3.0)\n",
      "Requirement already satisfied: charset-normalizer<4,>=2 in /home/jayrodge/miniconda3/envs/pytorch/lib/python3.10/site-packages (from requests->transformers) (3.4.1)\n",
      "Requirement already satisfied: idna<4,>=2.5 in /home/jayrodge/miniconda3/envs/pytorch/lib/python3.10/site-packages (from requests->transformers) (3.10)\n",
      "Requirement already satisfied: urllib3<3,>=1.21.1 in /home/jayrodge/miniconda3/envs/pytorch/lib/python3.10/site-packages (from requests->transformers) (2.3.0)\n",
      "Requirement already satisfied: certifi>=2017.4.17 in /home/jayrodge/miniconda3/envs/pytorch/lib/python3.10/site-packages (from requests->transformers) (2025.1.31)\n",
      "Requirement already satisfied: wcwidth in /home/jayrodge/miniconda3/envs/pytorch/lib/python3.10/site-packages (from prompt-toolkit<4.0.0,>=3.0.1->InquirerPy==0.3.4->huggingface_hub[cli]) (0.2.13)\n",
      "Requirement already satisfied: MarkupSafe>=2.0 in /home/jayrodge/miniconda3/envs/pytorch/lib/python3.10/site-packages (from jinja2->torch>=2.0.0->accelerate) (3.0.2)\n",
      "Using cached transformers-4.48.2-py3-none-any.whl (9.7 MB)\n",
      "Using cached accelerate-1.3.0-py3-none-any.whl (336 kB)\n",
      "Using cached InquirerPy-0.3.4-py3-none-any.whl (67 kB)\n",
      "Using cached huggingface_hub-0.28.1-py3-none-any.whl (464 kB)\n",
      "Using cached regex-2024.11.6-cp310-cp310-manylinux_2_17_x86_64.manylinux2014_x86_64.whl (781 kB)\n",
      "Using cached safetensors-0.5.2-cp38-abi3-manylinux_2_17_x86_64.manylinux2014_x86_64.whl (461 kB)\n",
      "Using cached tokenizers-0.21.0-cp39-abi3-manylinux_2_17_x86_64.manylinux2014_x86_64.whl (3.0 MB)\n",
      "Using cached tqdm-4.67.1-py3-none-any.whl (78 kB)\n",
      "Using cached pfzy-0.3.4-py3-none-any.whl (8.5 kB)\n",
      "Installing collected packages: tqdm, safetensors, regex, pfzy, InquirerPy, huggingface_hub, tokenizers, transformers, accelerate\n",
      "Successfully installed InquirerPy-0.3.4 accelerate-1.3.0 huggingface_hub-0.28.1 pfzy-0.3.4 regex-2024.11.6 safetensors-0.5.2 tokenizers-0.21.0 tqdm-4.67.1 transformers-4.48.2\n"
     ]
    }
   ],
   "source": [
    "!pip install transformers accelerate \"huggingface_hub[cli]\""
   ]
  },
  {
   "cell_type": "markdown",
   "metadata": {},
   "source": [
    "Load and test Hugging Face by running Llama 3.2 Model"
   ]
  },
  {
   "cell_type": "code",
   "execution_count": 4,
   "metadata": {},
   "outputs": [
    {
     "name": "stderr",
     "output_type": "stream",
     "text": [
      "/home/jayrodge/miniconda3/envs/pytorch/lib/python3.10/site-packages/tqdm/auto.py:21: TqdmWarning: IProgress not found. Please update jupyter and ipywidgets. See https://ipywidgets.readthedocs.io/en/stable/user_install.html\n",
      "  from .autonotebook import tqdm as notebook_tqdm\n",
      "Loading checkpoint shards: 100%|████████████████████████████████████████████████████████████████████████████████████████████████████████████████████████████████████████████████████████████████████████████████████████████████████████████████████████| 2/2 [00:03<00:00,  1.60s/it]\n",
      "Setting `pad_token_id` to `eos_token_id`:128001 for open-end generation.\n"
     ]
    },
    {
     "name": "stdout",
     "output_type": "stream",
     "text": [
      "<|begin_of_text|>Explain GPU acceleration: What are the main components of a GPU?\n",
      "GPU stands for Graphics Processing Unit. The GPU is a special-purpose processor that is designed to accelerate the graphics processing of a computer. GPUs are used in a variety of applications, including video games, 3D modeling, and scientific computing. GPUs are typically made up of a large number of processing cores, which are connected by a high-speed bus. The GPU is responsible for rendering the 3D graphics that are displayed on the screen, as well as\n"
     ]
    }
   ],
   "source": [
    "import torch\n",
    "from transformers import AutoModelForCausalLM, AutoTokenizer\n",
    "model = AutoModelForCausalLM.from_pretrained(\"meta-llama/Llama-3.2-3B\", \n",
    "                                             device_map=\"auto\", \n",
    "                                             torch_dtype=torch.float16)\n",
    "tokenizer = AutoTokenizer.from_pretrained(\"meta-llama/Llama-3.2-3B\")\n",
    "inputs = tokenizer(\"Explain GPU acceleration:\", return_tensors=\"pt\").to(\"cuda\")\n",
    "outputs = model.generate(**inputs, max_new_tokens=100)\n",
    "print(tokenizer.decode(outputs[0]))\n"
   ]
  },
  {
   "cell_type": "code",
   "execution_count": null,
   "metadata": {},
   "outputs": [],
   "source": []
  }
 ],
 "metadata": {
  "kernelspec": {
   "display_name": "Python 3 (ipykernel)",
   "language": "python",
   "name": "python3"
  },
  "language_info": {
   "codemirror_mode": {
    "name": "ipython",
    "version": 3
   },
   "file_extension": ".py",
   "mimetype": "text/x-python",
   "name": "python",
   "nbconvert_exporter": "python",
   "pygments_lexer": "ipython3",
   "version": "3.10.16"
  }
 },
 "nbformat": 4,
 "nbformat_minor": 4
}
